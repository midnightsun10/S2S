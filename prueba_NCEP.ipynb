{
 "cells": [
  {
   "cell_type": "code",
   "execution_count": 19,
   "id": "fb530477",
   "metadata": {},
   "outputs": [],
   "source": [
    "import os\n",
    "import sys\n",
    "import numpy as np\n",
    "sys.path.append('/home/brayan/mnsun/')\n",
    "from utils import check_dir"
   ]
  },
  {
   "cell_type": "code",
   "execution_count": 20,
   "id": "40ce6bba",
   "metadata": {},
   "outputs": [],
   "source": [
    "levels = np.array([200]) #,500,850"
   ]
  },
  {
   "cell_type": "code",
   "execution_count": 21,
   "id": "f0d541ff",
   "metadata": {},
   "outputs": [],
   "source": [
    "MODELS = {\"NCEP\":{\"reforecast\":{\"perturbed\":{\"2m_above_ground\"      :{\"2t\"  :{\"LA\": np.arange(0.5,43.5+1,1),\"M\" : np.arange(1,3+1,1)}},\n",
    "                                             \"sfc_precip\"           :{\"tp\"  :{\"L1\": np.arange(1,44+1,1)     ,\"M\" : np.arange(1,3+1,1)}},\n",
    "                                             \"sfc_temperature\"      :{\"wtmp\":{\"LB\": np.arange(1.5,43.5+1,1),\"M\" : np.arange(1,3+1,1)}},\n",
    "                                             \"10m_above_ground\"     :{\"10u\"   :{\"L\": np.arange(0,44+1,1)     ,\"M\" : np.arange(1,3+1,1)},\n",
    "                                                                      \"10v\"   :{\"L\": np.arange(0,44+1,1)     ,\"M\" : np.arange(1,3+1,1)}\n",
    "                                                                      },                                               \n",
    "                                             \"pressure_level_1\"     :{\"q\"   :{\"L\": np.arange(0,44+1,1)     ,\"M\" : np.arange(1,3+1,1),\"P2\":levels}},\n",
    "                                             \"pressure_level_2\"     :{\n",
    "                                                                      \"t\"   :{\"L\": np.arange(0,44+1,1)     ,\"M\" : np.arange(1,3+1,1),\"P\":levels}\n",
    "                                                                      },\n",
    "                                             \"pressure_level_wind\"  :{\"u\"   :{\"L\": np.arange(0,44+1,1)     ,\"M\" : np.arange(1,3+1,1),\"P\":levels},\n",
    "                                                                      \"v\"   :{\"L\": np.arange(0,44+1,1)     ,\"M\" : np.arange(1,3+1,1),\"P\":levels}\n",
    "                                                                      },                                                            \n",
    "                                             },\n",
    "                                 \"control\"  :{\"2m_above_ground\"      :{\"2t\"  :{\"LA\": np.arange(0.5,43.5+1,1)}},\n",
    "                                              \"sfc_precip\"           :{\"tp\"  :{\"L1\": np.arange(1,44+1,1)     }},\n",
    "                                              \"sfc_temperature\"      :{\"wtmp\":{\"LB\": np.arange(1.5,43.5+1,1)}},\n",
    "                                              \"10m_above_ground\"     :{\"10u\"   :{\"L\": np.arange(0,44+1,1)     },\n",
    "                                                                       \"10v\"   :{\"L\": np.arange(0,44+1,1)     }\n",
    "                                                                       },                                               \n",
    "                                              \"pressure_level_1\"     :{\"q\"   :{\"L\": np.arange(0,44+1,1)     ,\"P2\":levels}},\n",
    "                                              \"pressure_level_2\"     :{\n",
    "                                                                       \"t\"   :{\"L\": np.arange(0,44+1,1)     ,\"P\":levels}\n",
    "                                                                       },\n",
    "                                              \"pressure_level_wind\"  :{\"u\"   :{\"L\": np.arange(0,44+1,1)     ,\"P\":levels},\n",
    "                                                                       \"v\"   :{\"L\": np.arange(0,44+1,1)     ,\"P\":levels}\n",
    "                                                                       },                                                            \n",
    "                                              }\n",
    "                                },\n",
    "                 }\n",
    "         }"
   ]
  },
  {
   "cell_type": "markdown",
   "id": "f714db85",
   "metadata": {},
   "source": [
    "                  \"forecast\"  :{\"perturbed\":{\"2m_above_ground\"      :{\"2t\"  :{\"LB\": np.arange(1.5,43.5+1,1),\"M\" : np.arange(1,15+1,1)}},\n",
    "                                             \"atmos_column\"         :{\"tcc\" :{\"LA\": np.arange(0.5,43.5+1,1),\"M\" : np.arange(1,15+1,1)}},\n",
    "                                             \"sfc_precip\"           :{\"tp\"  :{\"L1\": np.arange(1,44+1,1)    ,\"M\" : np.arange(1,15+1,1)}},\n",
    "                                             \"sfc_pressure\"         :{\"msl\" :{\"L\": np.arange(0,44+1,1)     ,\"M\" : np.arange(1,15+1,1)}},\n",
    "                                             \"sfc_temperature\"      :{\"wtmp\":{\"LB\": np.arange(1.5,43.5+1,1),\"M\" : np.arange(1,15+1,1)}},\n",
    "                                             \"10m_above_ground\"     :{\"10u\"   :{\"L1\": np.arange(1,44+1,1)    ,\"M\" : np.arange(1,15+1,1)},\n",
    "                                                                      \"10v\"   :{\"L1\": np.arange(1,44+1,1)    ,\"M\" : np.arange(1,15+1,1)}\n",
    "                                                                      },                                               \n",
    "                                             \"pressure_level_1\"     :{\"q\"   :{\"L\": np.arange(0,44+1,1)     ,\"M\" : np.arange(1,15+1,1),\"P2\":levels}},\n",
    "                                             \"pressure_level_2\"     :{\"gh\"  :{\"L\": np.arange(0,44+1,1)     ,\"M\" : np.arange(1,15+1,1),\"P\":levels},\n",
    "                                                                      \"t\"   :{\"L\": np.arange(0,44+1,1)     ,\"M\" : np.arange(1,15+1,1),\"P\":levels}\n",
    "                                                                      },\n",
    "                                             \"pressure_level_wind\"  :{\"u\"   :{\"L\": np.arange(0,44+1,1)     ,\"M\" : np.arange(1,15+1,1),\"P\":levels},\n",
    "                                                                      \"v\"   :{\"L\": np.arange(0,44+1,1)     ,\"M\" : np.arange(1,15+1,1),\"P\":levels}\n",
    "                                                                      },                                                            \n",
    "                                             },\n",
    "                                 \"control\"  :{\"2m_above_ground\"      :{\"2t\"  :{\"LA\": np.arange(0.5,43.5+1,1)}},\n",
    "                                              \"atmos_column\"         :{\"tcc\" :{\"LB\": np.arange(1.5,43.5+1,1)}},\n",
    "                                              \"sfc_precip\"           :{\"tp\"  :{\"L1\": np.arange(1,44+1,1)     }},\n",
    "                                              \"sfc_pressure\"         :{\"msl\" :{\"L\": np.arange(0,44+1,1)     }},\n",
    "                                              \"sfc_temperature\"      :{\"wtmp\":{\"LB\": np.arange(1.5,43.5+1,1)}},\n",
    "                                              \"10m_above_ground\"     :{\"10u\"   :{\"L1\": np.arange(1,44+1,1)     },\n",
    "                                                                       \"10v\"   :{\"L1\": np.arange(1,44+1,1)     }\n",
    "                                                                       },                                               \n",
    "                                              \"pressure_level_1\"     :{\"q\"   :{\"L\": np.arange(1,44+1,1)     ,\"P2\":levels}},\n",
    "                                              \"pressure_level_2\"     :{\"gh\"  :{\"L\": np.arange(1,44+1,1)     ,\"P\":levels},\n",
    "                                                                       \"t\"   :{\"L\": np.arange(1,44+1,1)     ,\"P\":levels}\n",
    "                                                                       },\n",
    "                                              \"pressure_level_wind\"  :{\"u\"   :{\"L\": np.arange(1,44+1,1)     ,\"P\":levels},\n",
    "                                                                       \"v\"   :{\"L\": np.arange(1,44+1,1)     ,\"P\":levels}\n",
    "                                                                       },                                                            \n",
    "                                              }\n",
    "                                }"
   ]
  },
  {
   "cell_type": "markdown",
   "id": "e5622915",
   "metadata": {},
   "source": [
    "# sfc_temperature wtmp\n",
    "# 10m_above_ground 10v\n",
    "# 10m_above_ground 10u\n",
    "# 2m_above_ground 2t\n",
    "# sfc_precip tp\n",
    "# pressure_level_wind u (200,500,850)\n",
    "# pressure_level_wind v (200,500,850)\n",
    "# pressure_level_1 q  (200,500,850)\n",
    "# pressure_level_2 t  (200,500,850)"
   ]
  },
  {
   "cell_type": "code",
   "execution_count": 22,
   "id": "3ff91b52",
   "metadata": {},
   "outputs": [],
   "source": [
    "key        = \"ed3e15548b647cc51b8cdaee89812de38c160d9a0556ab8ada7279cd87e7b5b19a22451393eb7f10c3c4bcc58c803c2c31acb2ac\"\n",
    "dataset    = [\"10m_above_ground\"]\n",
    "BASE       = \"https://iridl.ldeo.columbia.edu/SOURCES/.ECMWF/.S2S/.{MODEL_NAME}/.{TYPE_SIMULATION}/.{TYPE_INIT}/.{VARIABLE_CATEGORY}/.{VARIABLE_SUBCATEGORY}\"\n",
    "OUTPUT_DIR = \"/home/brayan/DATA/S2S/raw_data\"\n",
    "comm_line  = \"curl -k -b '__dlauth_id=\"+key+\"' '{URL}' > {PATHFILE}\""
   ]
  },
  {
   "cell_type": "code",
   "execution_count": 23,
   "id": "54722c3c",
   "metadata": {},
   "outputs": [],
   "source": [
    "for model_name, v_1 in MODELS.items():\n",
    "    dir_model = model_name.split(\"/\")[0]+model_name.split(\"/\")[-1] if model_name[:3] == \"CMA\" else model_name\n",
    "    check_dir(OUTPUT_DIR, dir_model)\n",
    "    with open(OUTPUT_DIR+f\"/{dir_model}/{dir_model}_download.txt\", \"w\") as f:\n",
    "        for type_sim, v_2 in v_1.items():\n",
    "            check_dir(OUTPUT_DIR+f\"/{dir_model}\", type_sim)\n",
    "            for type_ini, v_3 in v_2.items():\n",
    "                check_dir(OUTPUT_DIR+f\"/{dir_model}/{type_sim}\", type_ini)\n",
    "                for var_cat, v_4 in v_3.items():\n",
    "                    if var_cat not in dataset:\n",
    "                        continue\n",
    "                    for sub_cat, v_5 in v_4.items():\n",
    "                        check_dir(OUTPUT_DIR+f\"/{dir_model}/{type_sim}/{type_ini}\", f\"{var_cat}.{sub_cat}\")\n",
    "                        IRI_DES = BASE.format(\n",
    "                                              MODEL_NAME=model_name, TYPE_SIMULATION=type_sim, \n",
    "                                              TYPE_INIT=type_ini, VARIABLE_CATEGORY=var_cat, VARIABLE_SUBCATEGORY=sub_cat\n",
    "                                             )\n",
    "                        des = list(v_5.keys())\n",
    "                        for x,m in enumerate(v_5[des[0]]):  #number Lead\n",
    "                            if 1 == len(des):\n",
    "                                url      = IRI_DES + f\"/{des[0]}/({str(m)})/VALUES/data.nc\"\n",
    "                                pathfile = OUTPUT_DIR+\"/\"+dir_model+\"/\"+type_sim+\"/\"+type_ini+\"/\"+f\"{var_cat}.{sub_cat}\"+\"/\"+ \\\n",
    "                                           f\"{var_cat}_{sub_cat}\"+\"_\"+des[0]+str(x)+\".nc\"\n",
    "                                f.write(comm_line.format(URL = url, PATHFILE = pathfile)+ \"\\n\") \n",
    "\n",
    "                            else:\n",
    "                                for y,l in enumerate(v_5[des[1]]): #number M\n",
    "                                    if 2 == len(des):\n",
    "                                        url      = IRI_DES + f\"/{des[0]}/({str(m)})/VALUES/{des[1]}/({str(l)})/VALUES/data.nc\"\n",
    "                                        pathfile = OUTPUT_DIR+\"/\"+dir_model+\"/\"+type_sim+\"/\"+type_ini+\"/\"+f\"{var_cat}.{sub_cat}\"+\"/\"+ \\\n",
    "                                                   f\"{var_cat}_{sub_cat}\"+\"_\"+des[0]+str(x)+\"_\"+des[1]+str(y)+\".nc\"\n",
    "                                        f.write(comm_line.format(URL = url, PATHFILE = pathfile)+ \"\\n\")     \n",
    "                                    else:\n",
    "                                        for z,p in enumerate(v_5[des[2]]):   #number P levels\n",
    "                                            url      = IRI_DES + f\"/{des[0]}/({str(m)})/VALUES/{des[1]}/({str(l)})/VALUES/{des[2]}/({p})/VALUES/data.nc\"\n",
    "                                            pathfile = OUTPUT_DIR+\"/\"+dir_model+\"/\"+type_sim+\"/\"+type_ini+\"/\"+f\"{var_cat}.{sub_cat}\"+\"/\"+ \\\n",
    "                                                       f\"{var_cat}_{sub_cat}\"+\"_\"+des[0]+str(x)+\"_\"+des[1]+str(y)+\"_\"+des[2]+str(z)+\".nc\"\n",
    "                                            f.write(comm_line.format(URL = url, PATHFILE = pathfile)+ \"\\n\")   "
   ]
  },
  {
   "cell_type": "code",
   "execution_count": null,
   "id": "3e119b80",
   "metadata": {},
   "outputs": [],
   "source": []
  }
 ],
 "metadata": {
  "kernelspec": {
   "display_name": "Python 3",
   "language": "python",
   "name": "python3"
  },
  "language_info": {
   "codemirror_mode": {
    "name": "ipython",
    "version": 3
   },
   "file_extension": ".py",
   "mimetype": "text/x-python",
   "name": "python",
   "nbconvert_exporter": "python",
   "pygments_lexer": "ipython3",
   "version": "3.7.6"
  }
 },
 "nbformat": 4,
 "nbformat_minor": 5
}
